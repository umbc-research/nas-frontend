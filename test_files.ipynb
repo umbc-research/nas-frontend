{
 "cells": [
  {
   "cell_type": "code",
   "execution_count": 10,
   "metadata": {},
   "outputs": [
    {
     "name": "stdout",
     "output_type": "stream",
     "text": [
      "Inserted data for file: test_files.ipynb\n"
     ]
    }
   ],
   "source": [
    "import os\n",
    "import mysql.connector\n",
    "from astropy.io import fits\n",
    "\n",
    "#database config \n",
    "db_config = {\n",
    "    'host':'localhost',\n",
    "    'user': 'root',\n",
    "    'password': '', \n",
    "    'database':'test', \n",
    "}\n",
    "\n",
    "fits_directory = 'C:\\\\Users\\\\samds\\\\Desktop\\\\OBS\\\\nas-frontend'\n",
    "\n",
    "\n",
    "#stablish connection\n",
    "\n",
    "conn = mysql.connector.connect(**db_config)\n",
    "cursor = conn.cursor()\n",
    "\n",
    "\n",
    "\n",
    "for filename in os.listdir(fits_directory):\n",
    "    \n",
    "    if filename.endswith('.fits'):\n",
    "        file_path = os.path.join(fits_directory, filename)\n",
    "        \n",
    "        \n",
    "        with fits.open(file_path) as fits_file:\n",
    "            \n",
    "            header = fits_file[0].header\n",
    "            \n",
    "           \n",
    "            instrument_name = header.get('INSTRUME', 'N/A')\n",
    "            filter_name = header.get('FILTER', 'N/A')\n",
    "            date_avg = header.get('DATE-AVG', 'N/A')\n",
    "            \n",
    "            #insert the data\n",
    "cursor.execute('''\n",
    "    INSERT INTO fits_metadata (file_name, instrument_name, filter, date_avg)\n",
    "    VALUES (%s, %s, %s, %s)\n",
    "''', (filename, instrument_name, filter_name, date_avg))\n",
    "\n",
    "# Print confirmation \n",
    "print(f\"Inserted data for file: {filename}\")\n",
    "\n"
   ]
  }
 ],
 "metadata": {
  "kernelspec": {
   "display_name": "Python 3",
   "language": "python",
   "name": "python3"
  },
  "language_info": {
   "codemirror_mode": {
    "name": "ipython",
    "version": 3
   },
   "file_extension": ".py",
   "mimetype": "text/x-python",
   "name": "python",
   "nbconvert_exporter": "python",
   "pygments_lexer": "ipython3",
   "version": "3.13.0"
  }
 },
 "nbformat": 4,
 "nbformat_minor": 2
}
