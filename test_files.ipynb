{
 "cells": [
  {
   "cell_type": "code",
   "execution_count": 2,
   "metadata": {},
   "outputs": [
    {
     "name": "stdout",
     "output_type": "stream",
     "text": [
      "Inserted header data for file: 19_46_09_comet2023A3_finder_00008.fits\n",
      "Inserted header data for file: 20_34_32_HD 14662_00002.fits\n",
      "Inserted header data for file: 20_59_40_HD_335264_00010.fits\n"
     ]
    }
   ],
   "source": [
    "import os\n",
    "import mysql.connector\n",
    "from astropy.io import fits\n",
    "\n",
    "# Database config \n",
    "db_config = {\n",
    "    'host': 'localhost',\n",
    "    'user': 'root',\n",
    "    'password': '', \n",
    "    'database': 'test', \n",
    "}\n",
    "\n",
    "fits_directory = 'C:\\\\Users\\\\samds\\\\Desktop\\\\OBS\\\\nas-frontend'\n",
    "\n",
    "# Create connection\n",
    "conn = mysql.connector.connect(**db_config)\n",
    "cursor = conn.cursor()\n",
    "\n",
    "# Check for filenames already in the database\n",
    "cursor.execute('SELECT file_name FROM fits_data')\n",
    "existing_files = set(row[0] for row in cursor.fetchall())\n",
    "\n",
    "# Process only the new FITS files\n",
    "for filename in os.listdir(fits_directory):\n",
    "    if filename.endswith('.fits') and filename not in existing_files:\n",
    "        file_path = os.path.join(fits_directory, filename)\n",
    "        \n",
    "        with fits.open(file_path) as fits_file:\n",
    "            header = fits_file[0].header\n",
    "            \n",
    "            object_name = header.get('OBJECT', 'N/A')\n",
    "            instrument_name = header.get('INSTRUME', 'N/A')\n",
    "            filter_name = header.get('FILTER', 'N/A')\n",
    "            date_avg = header.get('DATE-AVG', 'N/A')\n",
    "            \n",
    "            # Insert the header \n",
    "           \n",
    "            cursor.execute('''\n",
    "             INSERT INTO fits_data (object_name, file_name, instrument_name, filter, date_avg)\n",
    "             VALUES (%s, %s, %s, %s, %s)\n",
    "            ''', (object_name, filename, instrument_name, filter_name, date_avg))\n",
    "            \n",
    "            # Print the confirmation \n",
    "            print(f\"Inserted header data for file: {filename}\")\n",
    "\n",
    "# Commit\n",
    "conn.commit()\n",
    "\n",
    "# Close the connection\n",
    "cursor.close()\n",
    "conn.close()\n"
   ]
  }
 ],
 "metadata": {
  "kernelspec": {
   "display_name": "Python 3",
   "language": "python",
   "name": "python3"
  },
  "language_info": {
   "codemirror_mode": {
    "name": "ipython",
    "version": 3
   },
   "file_extension": ".py",
   "mimetype": "text/x-python",
   "name": "python",
   "nbconvert_exporter": "python",
   "pygments_lexer": "ipython3",
   "version": "3.13.0"
  }
 },
 "nbformat": 4,
 "nbformat_minor": 2
}
